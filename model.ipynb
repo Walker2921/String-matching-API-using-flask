{
 "cells": [
  {
   "cell_type": "code",
   "execution_count": 1,
   "metadata": {},
   "outputs": [],
   "source": [
    "from sklearn.feature_extraction.text import TfidfVectorizer\n",
    "vectorizer = TfidfVectorizer()\n",
    "import pandas as pd\n",
    "from sklearn.metrics.pairwise import cosine_similarity"
   ]
  },
  {
   "cell_type": "code",
   "execution_count": 2,
   "metadata": {},
   "outputs": [
    {
     "data": {
      "text/plain": [
       "0.33609692727625756"
      ]
     },
     "execution_count": 2,
     "metadata": {},
     "output_type": "execute_result"
    }
   ],
   "source": [
    "def nlp(text):\n",
    "    text = text.strip().lower()\n",
    "    t = \"\"\n",
    "    for i in text:\n",
    "        if i.isalpha() or i.isnumeric() or i==\" \":\n",
    "            t+=i\n",
    "    text = t\n",
    "    return text\n",
    "\n",
    "def similarity(string_1, string_2):\n",
    "    from sklearn.feature_extraction.text import TfidfVectorizer\n",
    "    vectorizer = TfidfVectorizer()\n",
    "    from sklearn.metrics.pairwise import cosine_similarity\n",
    "\n",
    "    string_1 = nlp(string_1)\n",
    "    string_2 = nlp(string_2)\n",
    "\n",
    "    string_1, string_2 = vectorizer.fit_transform([string_1, string_2])\n",
    "    \n",
    "    return cosine_similarity(string_1, string_2)[0][0]\n",
    "\n",
    "string_1 = \"I am a boy\"\n",
    "string_2 = \"I am a girl\"\n",
    "\n",
    "score = similarity(string_1, string_2)\n",
    "score"
   ]
  },
  {
   "cell_type": "code",
   "execution_count": 24,
   "metadata": {},
   "outputs": [],
   "source": [
    "import requests\n",
    "\n",
    "url = 'http://127.0.0.1:5000/predict' \n",
    "body = {\n",
    "    \"text1\": \"I am a girl\",\n",
    "    \"text2\": \"I am a boy\",\n",
    "}\n",
    "response = requests.get(url, json=body)"
   ]
  },
  {
   "cell_type": "code",
   "execution_count": null,
   "metadata": {},
   "outputs": [],
   "source": []
  }
 ],
 "metadata": {
  "kernelspec": {
   "display_name": "Python 3.10.4 ('myenv')",
   "language": "python",
   "name": "python3"
  },
  "language_info": {
   "codemirror_mode": {
    "name": "ipython",
    "version": 3
   },
   "file_extension": ".py",
   "mimetype": "text/x-python",
   "name": "python",
   "nbconvert_exporter": "python",
   "pygments_lexer": "ipython3",
   "version": "3.10.4"
  },
  "orig_nbformat": 4,
  "vscode": {
   "interpreter": {
    "hash": "b551809b2b45c991023f269017e806366f926a466574d7d54106cb64e93ea1e2"
   }
  }
 },
 "nbformat": 4,
 "nbformat_minor": 2
}
